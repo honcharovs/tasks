{
 "cells": [
  {
   "cell_type": "code",
   "execution_count": 12,
   "metadata": {},
   "outputs": [
    {
     "name": "stdin",
     "output_type": "stream",
     "text": [
      " 1 2 3 4 5 1 2 1 2 7 3\n"
     ]
    },
    {
     "name": "stdout",
     "output_type": "stream",
     "text": [
      "6\n"
     ]
    }
   ],
   "source": [
    "mySet = set(map(int, input().split()))\n",
    "print(len(mySet))\n"
   ]
  },
  {
   "cell_type": "code",
   "execution_count": 15,
   "metadata": {},
   "outputs": [
    {
     "name": "stdin",
     "output_type": "stream",
     "text": [
      " 1 2 6 4 5 7\n",
      " 10 2 3 4 8\n"
     ]
    },
    {
     "name": "stdout",
     "output_type": "stream",
     "text": [
      "2 4\n"
     ]
    }
   ],
   "source": [
    "mySet1 = set(map(int, input().split()))\n",
    "mySet2 = set(map(int, input().split()))\n",
    "print(*sorted(mySet1 & mySet2))\n"
   ]
  },
  {
   "cell_type": "code",
   "execution_count": 22,
   "metadata": {},
   "outputs": [
    {
     "name": "stdin",
     "output_type": "stream",
     "text": [
      " 1 2 3 2 3 4\n"
     ]
    },
    {
     "name": "stdout",
     "output_type": "stream",
     "text": [
      "NO\n",
      "NO\n",
      "NO\n",
      "YES\n",
      "YES\n",
      "NO\n"
     ]
    }
   ],
   "source": [
    "myList = list(map(int, input().split()))\n",
    "mySet = set()\n",
    "# set(map(int, input().split()))\n",
    "for i in myList:\n",
    "    if i in mySet:\n",
    "        print('YES')\n",
    "    else:\n",
    "        print('NO')\n",
    "    mySet.add(i)\n"
   ]
  },
  {
   "cell_type": "code",
   "execution_count": 74,
   "metadata": {},
   "outputs": [
    {
     "name": "stdout",
     "output_type": "stream",
     "text": [
      "19\n"
     ]
    }
   ],
   "source": [
    "import sys\n",
    "import re\n",
    "fin = open('input.txt', 'r', encoding='UTF-8')\n",
    "fText = fin.read().split()\n",
    "# fText = re.findall(\"[\\w]+\", fin.read().lower())\n",
    "fSet = set(fText)\n",
    "# print(ftext)\n",
    "# print(fSet)\n",
    "print(len(fSet))\n"
   ]
  },
  {
   "cell_type": "code",
   "execution_count": 75,
   "metadata": {},
   "outputs": [
    {
     "name": "stdout",
     "output_type": "stream",
     "text": [
      "19\n"
     ]
    }
   ],
   "source": [
    "fin = open('input.txt', 'r', encoding='UTF-8')\n",
    "fText = fin.read().rstrip().split()\n",
    "fSet = set(fText)\n",
    "print(len(fSet))\n"
   ]
  },
  {
   "cell_type": "code",
   "execution_count": 129,
   "metadata": {},
   "outputs": [
    {
     "name": "stdout",
     "output_type": "stream",
     "text": [
      "1 3 5\n"
     ]
    }
   ],
   "source": [
    "fin = open('test1.txt', 'r', encoding='UTF-8')\n",
    "maxN_fin = fin.read().split('\\n')\n",
    "maxN = int(maxN_fin[0])\n",
    "# print(maxN)\n",
    "setN = set(range(1, maxN+1))\n",
    "# print(setN)\n",
    "fText = maxN_fin\n",
    "# print(fText)\n",
    "i = 2\n",
    "augustSet = setN\n",
    "for line in fText:    \n",
    "    while line != 'HELP' and i < len(fText):\n",
    "        if fText[i] == 'YES':\n",
    "            beatrisAns = set(map(int, fText[i-1].split()))\n",
    "            # print(beatrisAns)\n",
    "            augustSet &= beatrisAns\n",
    "            # print(augustSet)\n",
    "        elif fText[i] == 'NO':\n",
    "            beatrisAns = set(map(int, fText[i-1].split()))\n",
    "            # print(beatrisAns)\n",
    "            augustSet = augustSet - beatrisAns\n",
    "            # print(augustSet)\n",
    "        i += 2\n",
    "print(*augustSet)\n"
   ]
  },
  {
   "cell_type": "code",
   "execution_count": 139,
   "metadata": {},
   "outputs": [
    {
     "name": "stdin",
     "output_type": "stream",
     "text": [
      " 100\n",
      " 3 5 8 10 11 13 14 15 16 20 21 23 25 27 29 31 32 33 35 42 43 46 47 48 51 52 57 58 67 68 72 74 75 76 79 80 81 82 83 84 86 89 90 91 92 93 94 95 96 99\n",
      " YES\n",
      " 1 4 7 9 14 16 17 19 20 23 25 27 28 29 30 31 32 33 41 42 45 46 48 50 52 54 59 60 61 63 66 67 68 69 70 71 73 74 79 81 82 83 89 90 91 92 93 94 95 100\n",
      " YES\n",
      " 3 5 6 15 16 18 19 20 21 22 23 24 26 28 29 35 37 38 39 40 41 43 44 45 46 47 53 55 56 60 61 63 64 65 68 70 71 73 76 79 80 81 82 83 86 90 91 95 96 99\n",
      " YES\n",
      " 1 2 3 5 11 16 17 23 25 31 32 33 34 35 38 39 41 43 44 46 47 49 51 53 58 59 62 63 68 69 70 72 73 74 76 77 78 79 80 81 82 83 85 86 93 94 95 97 99 100\n",
      " YES\n",
      " 3 7 8 9 10 14 17 20 22 23 24 25 26 27 28 30 34 40 42 43 45 47 48 49 50 51 52 53 54 55 59 62 63 66 67 72 73 75 77 81 83 84 86 89 92 93 94 96 98 100\n",
      " YES\n",
      " HELP\n"
     ]
    },
    {
     "name": "stdout",
     "output_type": "stream",
     "text": [
      "23 81 83\n"
     ]
    }
   ],
   "source": [
    "maxN = int(input())\n",
    "# максимальное число, которое мог загадать Август\n",
    "setN = set(range(1, maxN+1))  # создаем множество чисел, в которое входит число\n",
    "augustSet = setN\n",
    "line = input()\n",
    "while line != 'HELP':\n",
    "    if line == 'YES':\n",
    "        augustSet &= beatrisAns\n",
    "        # print(augustSet)\n",
    "    elif line == 'NO':\n",
    "        augustSet -= beatrisAns\n",
    "        # print(augustSet)\n",
    "    else:\n",
    "        beatrisAns = set(map(int, line.split()))\n",
    "        # print(beatrisAns)\n",
    "    line = input()\n",
    "print(*sorted(augustSet))\n"
   ]
  },
  {
   "cell_type": "code",
   "execution_count": null,
   "metadata": {},
   "outputs": [],
   "source": [
    "class studLang():\n",
    "    qnt = 0\n",
    "    langs = []\n",
    "\n",
    "\n",
    "def add_studLang(qnt, *langs):\n",
    "    stud = studLang()\n",
    "    stud.qnt = qnt\n",
    "    stud.langs.append(langs)\n",
    "n = int(input())  # количество учеников\n",
    "line = input()\n",
    "while i <= n:\n",
    "    mi = int(input())\n",
    "        while j <= mi:\n",
    "            \n",
    "            \n",
    "        setN = set(range(1, maxN+1))  # создаем множество чисел, в которое входит число\n",
    "    augustSet = setN\n",
    "    line = input()\n"
   ]
  },
  {
   "cell_type": "code",
   "execution_count": 191,
   "metadata": {},
   "outputs": [
    {
     "name": "stdin",
     "output_type": "stream",
     "text": [
      " 3\n",
      " 3\n",
      " Russian\n",
      " English\n",
      " Japanese\n",
      " 2\n",
      " Russian\n",
      " English\n",
      " 1\n",
      " English\n"
     ]
    },
    {
     "name": "stdout",
     "output_type": "stream",
     "text": [
      "1\n",
      "English\n"
     ]
    }
   ],
   "source": [
    "class studLang():  # Определяем класс студента с количеством и перечнем языков\n",
    "    qnt = 0\n",
    "    langs = []\n",
    "\n",
    "\n",
    "def add_studLang(qnt, langs):  #  Определение процедуры добавления студента\n",
    "    stud = studLang()\n",
    "    stud.qnt = qnt\n",
    "    stud.langs = langs\n",
    "    return stud\n",
    "\n",
    "listStuds = []  # Создаем пустой список студентов\n",
    "setLangs = set()  # Создаем пустое общее множество языков\n",
    "studs = int(input())  # Считываем количество студентов\n",
    "i = 1  # Создаем счетчик студентов\n",
    "while i <= studs:  # Задаем цикл while для ввода студентов\n",
    "    qnt = int(input())  # Ввод количества языков, которые знает студент\n",
    "    j = 1  # Создаем счетчик языков для конретного студента\n",
    "    langs = []  # Создаем пустой список для хранения языков конкретного студента\n",
    "# Задаем вложенный цикл while для ввода языков, которые знает конкретный студент\n",
    "    while j <= qnt:\n",
    "        l = input()\n",
    "        langs.append(l)  # Добавляем студенту в список языки, которые он знает\n",
    "        j += 1\n",
    "# Добавляем в общее множество языков список языков, которые знает студент\n",
    "# т.е. получаем множество языков, которые знает хотя бы один студент\n",
    "    setLangs.update(langs)\n",
    "# Добавляем в список всех студентов данного студента с помощью процедуры добавления\n",
    "    listStuds.append(add_studLang(qnt, langs))  \n",
    "    i += 1\n",
    "# Создаем копию множества всех языков для нахождения ответов на задачу \n",
    "everyKnowLang = setLangs.copy()\n",
    "# Циклом for находим множество языков, которые знают все студенты\n",
    "for elem in listStuds:\n",
    "    everyKnowLang &= set(elem.langs)\n",
    "# Печатаем длину множества языков, которые знают все студенты\n",
    "print(len(everyKnowLang))\n",
    "# Циклом for печатаем список языков, которые знают все студенты\n",
    "for lang in everyKnowLang:\n",
    "    print(lang)\n",
    "# Печатаем длину множества языков, которые знает хотя бы один студент\n",
    "print(len(setLangs))\n",
    "# Циклом for печатаем список языков, которые знает хотя бы один студент\n",
    "for elem in sorted(setLangs, reverse=True):\n",
    "    print(elem)\n"
   ]
  },
  {
   "cell_type": "code",
   "execution_count": 197,
   "metadata": {},
   "outputs": [
    {
     "name": "stdout",
     "output_type": "stream",
     "text": [
      "3\n",
      "Russian\n",
      "Japanese\n",
      "English\n"
     ]
    }
   ],
   "source": [
    "print(len(setLangs))\n",
    "for elem in sorted(setLangs, reverse=True):\n",
    "    print(elem)"
   ]
  },
  {
   "cell_type": "code",
   "execution_count": null,
   "metadata": {},
   "outputs": [],
   "source": [
    "Тест 1\n",
    "Входные данные:\n",
    "3\n",
    "3\n",
    "Russian\n",
    "English\n",
    "Japanese\n",
    "2\n",
    "Russian\n",
    "English\n",
    "1\n",
    "English\n",
    "\n",
    "Вывод программы:\n",
    "1\n",
    "English\n",
    "3\n",
    "Russian\n",
    "Japanese\n",
    "English"
   ]
  },
  {
   "cell_type": "code",
   "execution_count": 175,
   "metadata": {},
   "outputs": [
    {
     "name": "stdout",
     "output_type": "stream",
     "text": [
      "['Russian', 'English', 'Japanese']\n"
     ]
    }
   ],
   "source": [
    "print(listStuds[0].langs)"
   ]
  },
  {
   "cell_type": "code",
   "execution_count": 182,
   "metadata": {},
   "outputs": [
    {
     "name": "stdout",
     "output_type": "stream",
     "text": [
      "{'English', 'Japanese', 'Russian'}\n"
     ]
    }
   ],
   "source": [
    "print(setLangs)"
   ]
  },
  {
   "cell_type": "code",
   "execution_count": 198,
   "metadata": {},
   "outputs": [
    {
     "name": "stdout",
     "output_type": "stream",
     "text": [
      "[1, 2, 3, 4]\n"
     ]
    }
   ],
   "source": [
    "a = [1, 2, 3]\n",
    "b = a\n",
    "b.append(4)\n",
    "print(a)"
   ]
  },
  {
   "cell_type": "code",
   "execution_count": 208,
   "metadata": {},
   "outputs": [
    {
     "name": "stdin",
     "output_type": "stream",
     "text": [
      " 8(495)430-23-97\n"
     ]
    },
    {
     "name": "stdout",
     "output_type": "stream",
     "text": [
      "84954302397\n",
      "4954302397\n"
     ]
    },
    {
     "name": "stdin",
     "output_type": "stream",
     "text": [
      " +7-4-9-5-43-023-97\n",
      " 4-3-0-2-3-9-7\n",
      " 8-495-430\n"
     ]
    },
    {
     "name": "stdout",
     "output_type": "stream",
     "text": [
      "['4954302397', '4954302397', '4958495430']\n",
      "YES\n",
      "YES\n",
      "NO\n"
     ]
    }
   ],
   "source": [
    "newNum = ''.join(i for i in input() if i.isdigit())\n",
    "# print(newNum)\n",
    "if len(newNum) == 7:\n",
    "    newNum = '495' + newNum\n",
    "elif len(newNum) == 11:\n",
    "    newNum = newNum[-10:]\n",
    "elif len(newNum) == 12:\n",
    "    newNum = newNum[-10:]\n",
    "# print(newNum)\n",
    "phoneNums = []\n",
    "for i in range(3):\n",
    "    oldNum = ''.join(i for i in input() if i.isdigit())\n",
    "    if len(oldNum) == 7:\n",
    "        oldNum = '495' + oldNum\n",
    "        phoneNums.append(oldNum)\n",
    "    elif len(oldNum) == 11:\n",
    "        oldNum = oldNum[-10:]\n",
    "        phoneNums.append(oldNum)\n",
    "    elif len(oldNum) == 12:\n",
    "        oldNum = oldNum[-10:]\n",
    "        phoneNums.append(oldNum)\n",
    "# print(phoneNums)\n",
    "for phoneNum in phoneNums:\n",
    "    if newNum == phoneNum:\n",
    "        print('YES')\n",
    "    else:\n",
    "        print('NO')\n"
   ]
  },
  {
   "cell_type": "code",
   "execution_count": null,
   "metadata": {},
   "outputs": [],
   "source": [
    "Тест 1\n",
    "Входные данные:\n",
    "8(495)430-23-97\n",
    "+7-4-9-5-43-023-97\n",
    "4-3-0-2-3-9-7\n",
    "8-495-430\n",
    "\n",
    "Вывод программы:\n",
    "YES\n",
    "YES\n",
    "NO"
   ]
  }
 ],
 "metadata": {
  "kernelspec": {
   "display_name": "Python 3",
   "language": "python",
   "name": "python3"
  },
  "language_info": {
   "codemirror_mode": {
    "name": "ipython",
    "version": 3
   },
   "file_extension": ".py",
   "mimetype": "text/x-python",
   "name": "python",
   "nbconvert_exporter": "python",
   "pygments_lexer": "ipython3",
   "version": "3.7.3"
  }
 },
 "nbformat": 4,
 "nbformat_minor": 4
}
