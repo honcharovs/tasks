{
 "cells": [
  {
   "cell_type": "code",
   "execution_count": 3,
   "metadata": {},
   "outputs": [
    {
     "name": "stdin",
     "output_type": "stream",
     "text": [
      " 0\n",
      " 0\n"
     ]
    },
    {
     "name": "stdout",
     "output_type": "stream",
     "text": [
      "0 "
     ]
    }
   ],
   "source": [
    "a = int(input())\n",
    "b = int(input())\n",
    "for i in range(a, b+1):\n",
    "    print(i, end=' ')\n"
   ]
  },
  {
   "cell_type": "code",
   "execution_count": 7,
   "metadata": {},
   "outputs": [
    {
     "name": "stdin",
     "output_type": "stream",
     "text": [
      " 0\n",
      " 1\n"
     ]
    },
    {
     "name": "stdout",
     "output_type": "stream",
     "text": [
      "0 1 "
     ]
    }
   ],
   "source": [
    "a = int(input())\n",
    "b = int(input())\n",
    "if a < b:\n",
    "    for i in range(a, b+1):\n",
    "        print(i, end=' ')\n",
    "else:\n",
    "    for i in range(a, b-1, -1):\n",
    "        print(i, end=' ')\n"
   ]
  },
  {
   "cell_type": "code",
   "execution_count": 26,
   "metadata": {},
   "outputs": [
    {
     "name": "stdin",
     "output_type": "stream",
     "text": [
      " 5\n"
     ]
    },
    {
     "name": "stdout",
     "output_type": "stream",
     "text": [
      "+___ +___ +___ +___ +___ \n",
      "|1 / |2 / |3 / |4 / |5 / \n",
      "|__\\ |__\\ |__\\ |__\\ |__\\ \n",
      "|    |    |    |    |    \n"
     ]
    }
   ],
   "source": [
    "n = int(input())\n",
    "\n",
    "print('+___ ' * n)\n",
    "for i in range(1, n+1):\n",
    "    s = '|'+ str(i) + ' / '\n",
    "    print(s, end='')\n",
    "print('')\n",
    "print('|__\\ ' * n)\n",
    "print('|    ' * n)\n"
   ]
  },
  {
   "cell_type": "code",
   "execution_count": 41,
   "metadata": {},
   "outputs": [
    {
     "name": "stdin",
     "output_type": "stream",
     "text": [
      " 9\n"
     ]
    },
    {
     "name": "stdout",
     "output_type": "stream",
     "text": [
      "1\n",
      "12\n",
      "123\n",
      "1234\n",
      "12345\n",
      "123456\n",
      "1234567\n",
      "12345678\n",
      "123456789\n"
     ]
    }
   ],
   "source": [
    "n = int(input())\n",
    "for i in range(1, n+1):\n",
    "    for i in range(1, i+1):\n",
    "        print(i, sep='', end='')\n",
    "    print('')\n"
   ]
  },
  {
   "cell_type": "code",
   "execution_count": 60,
   "metadata": {},
   "outputs": [
    {
     "name": "stdin",
     "output_type": "stream",
     "text": [
      " 4 5 3 4 2 3\n"
     ]
    },
    {
     "name": "stdout",
     "output_type": "stream",
     "text": [
      "4\n",
      "3\n",
      "2\n"
     ]
    }
   ],
   "source": [
    "list1 = input().split()\n",
    "#print(len(list1))\n",
    "for i in range(0, len(list1)):\n",
    "    if i % 2 == 0:\n",
    "        print(list1[i])\n"
   ]
  },
  {
   "cell_type": "code",
   "execution_count": 58,
   "metadata": {},
   "outputs": [
    {
     "name": "stdin",
     "output_type": "stream",
     "text": [
      " 1 2 3 4 5 6 7 8 22 24\n"
     ]
    },
    {
     "name": "stdout",
     "output_type": "stream",
     "text": [
      "2 4 6 8 22 24 "
     ]
    }
   ],
   "source": [
    "list1 = input().split()\n",
    "for i in range(0, len(list1)):\n",
    "    if int(list1[i]) % 2 == 0:\n",
    "        print(list1[i], end=' ')\n"
   ]
  },
  {
   "cell_type": "code",
   "execution_count": 63,
   "metadata": {},
   "outputs": [
    {
     "name": "stdin",
     "output_type": "stream",
     "text": [
      " 9 3 4 1 2\n"
     ]
    },
    {
     "name": "stdout",
     "output_type": "stream",
     "text": [
      "5\n"
     ]
    }
   ],
   "source": [
    "list1 = input().split()\n",
    "a = 0\n",
    "for i in range(0, len(list1)):\n",
    "    if int(list1[i]) >= 0:\n",
    "        a += 1\n",
    "print(a)\n"
   ]
  },
  {
   "cell_type": "code",
   "execution_count": 68,
   "metadata": {},
   "outputs": [
    {
     "name": "stdin",
     "output_type": "stream",
     "text": [
      " 5 4 3 2 1\n"
     ]
    },
    {
     "name": "stdout",
     "output_type": "stream",
     "text": [
      "5 0\n"
     ]
    }
   ],
   "source": [
    "list1 = input().split()\n",
    "maxElement = 0\n",
    "maxIndex = len(list1)\n",
    "for i in range(len(list1)-1, -1, -1):\n",
    "    if int(list1[i]) > maxElement:\n",
    "        maxElement = int(list1[i])\n",
    "        maxIndex = i\n",
    "print(maxElement, maxIndex)\n"
   ]
  },
  {
   "cell_type": "code",
   "execution_count": 79,
   "metadata": {},
   "outputs": [
    {
     "name": "stdin",
     "output_type": "stream",
     "text": [
      " 5 4 3 2 1\n"
     ]
    }
   ],
   "source": [
    "list1 = input().split()\n",
    "for i in range(0, len(list1)):\n",
    "    if i+1 < len(list1):\n",
    "        if int(list1[i+1]) > int(list1[i]):\n",
    "            print(list1[i+1], end=' ')\n",
    "        i += 1\n"
   ]
  },
  {
   "cell_type": "code",
   "execution_count": 84,
   "metadata": {},
   "outputs": [
    {
     "name": "stdin",
     "output_type": "stream",
     "text": [
      " -1 -2 -3 -4 100\n"
     ]
    },
    {
     "name": "stdout",
     "output_type": "stream",
     "text": [
      "100\n"
     ]
    }
   ],
   "source": [
    "list1 = input().split()\n",
    "minElement = 1000\n",
    "for i in range(0, len(list1)):\n",
    "    if 0 < int(list1[i]) <= minElement:\n",
    "        minElement = int(list1[i])\n",
    "print(minElement)\n"
   ]
  },
  {
   "cell_type": "code",
   "execution_count": 128,
   "metadata": {},
   "outputs": [
    {
     "name": "stdin",
     "output_type": "stream",
     "text": [
      " 5\n",
      " 10 11 12 13 14 15\n",
      " -500\n"
     ]
    },
    {
     "name": "stdout",
     "output_type": "stream",
     "text": [
      "10\n"
     ]
    }
   ],
   "source": [
    "a = int(input())\n",
    "massive = list(map(int, input().split()))\n",
    "x = int(input())\n",
    "distanse = 1000\n",
    "if massive.count(x) > 0:\n",
    "    print(x)\n",
    "else:    \n",
    "    for i in range(0, a):\n",
    "        if abs(x - abs(massive[i])) <= distanse:\n",
    "            distanse = abs(x - massive[i])\n",
    "            closer_number = massive[i]\n",
    "        else:\n",
    "            i += 1\n",
    "    print(closer_number)\n"
   ]
  },
  {
   "cell_type": "markdown",
   "metadata": {},
   "source": [
    "В первой строке задается одно натуральное число N, не превосходящее 1000 – размер массива. Во второй строке содержатся N чисел – элементы массива (целые числа, не превосходящие по модулю 1000). В третьей строке вводится одно целое число x, не превосходящее по модулю 1000.\n",
    "\n",
    "Формат вывода\n",
    "\n",
    "Вывести значение элемента массива, ближайшее к x. Если таких чисел несколько, выведите любое из них."
   ]
  },
  {
   "cell_type": "code",
   "execution_count": 118,
   "metadata": {},
   "outputs": [
    {
     "name": "stdin",
     "output_type": "stream",
     "text": [
      " 1 2 3 4 5\n"
     ]
    },
    {
     "name": "stdout",
     "output_type": "stream",
     "text": [
      "2 1 4 3 5\n",
      "2 1 4 3 5\n"
     ]
    }
   ],
   "source": [
    "massive = list(map(int, input().split()))\n",
    "lenMassive = len(massive)\n",
    "for i in range(0, lenMassive - 1, 2):\n",
    "    massive[i], massive[i + 1] = massive[i + 1], massive[i]\n",
    "#print(' '.join([str(i) for i in massive]))\n",
    "print(*massive)\n"
   ]
  },
  {
   "cell_type": "code",
   "execution_count": null,
   "metadata": {},
   "outputs": [],
   "source": [
    "%debug"
   ]
  },
  {
   "cell_type": "code",
   "execution_count": 124,
   "metadata": {},
   "outputs": [
    {
     "name": "stdin",
     "output_type": "stream",
     "text": [
      " 5\n",
      " 5 4 3 2 1\n",
      " 3\n"
     ]
    },
    {
     "name": "stdout",
     "output_type": "stream",
     "text": [
      "3\n",
      "3\n"
     ]
    }
   ],
   "source": [
    "n = int(input())\n",
    "myList = list(map(int, input().split()))\n",
    "x = int(input())\n",
    "newList = []\n",
    "if myList.count(x) > 0:\n",
    "    print(x)\n",
    "else:\n",
    "    for i in range(n):\n",
    "        newList.append(abs(myList[i] - x))\n",
    "        ind = newList.index(min(newList))\n",
    "print(myList[ind])\n"
   ]
  },
  {
   "cell_type": "code",
   "execution_count": 164,
   "metadata": {},
   "outputs": [
    {
     "name": "stdin",
     "output_type": "stream",
     "text": [
      " 3 4 5 2 1\n"
     ]
    },
    {
     "name": "stdout",
     "output_type": "stream",
     "text": [
      "3 4 1 2 5\n"
     ]
    }
   ],
   "source": [
    "list1 = list(map(int, input().split()))\n",
    "maxI = max(list1)\n",
    "minI = min(list1)\n",
    "list2 = list1.copy()\n",
    "for i in range(0, len(list2)):\n",
    "    if minI < list1[i] < maxI:\n",
    "        i += 1\n",
    "    elif list1[i] == maxI:\n",
    "        list2[i] = minI\n",
    "    elif list1[i] == minI:\n",
    "        list2[i] = maxI\n",
    "print(*list2)\n"
   ]
  },
  {
   "cell_type": "code",
   "execution_count": 168,
   "metadata": {},
   "outputs": [
    {
     "name": "stdin",
     "output_type": "stream",
     "text": [
      " 5\n",
      " 1 2 5 6 4 8 9 4 5 6 2 1 5 4 45 49\n",
      " 47\n"
     ]
    },
    {
     "name": "stdout",
     "output_type": "stream",
     "text": [
      "1\n"
     ]
    }
   ],
   "source": [
    "n = int(input())\n",
    "list1 = list(map(int, input().split()))\n",
    "x = int(input())\n",
    "#distanse = 2000\n",
    "if list1.count(x) > 0:\n",
    "    print(x)\n",
    "else:\n",
    "    for i in range(0, n):\n",
    "        list2.append(abs(list1[i] - x))\n",
    "    print(min(list2))\n"
   ]
  },
  {
   "cell_type": "code",
   "execution_count": 176,
   "metadata": {},
   "outputs": [
    {
     "name": "stdin",
     "output_type": "stream",
     "text": [
      " 5\n",
      " 1 2 5 6 4 8 9 4 5 6 2 1 5 4 45 49\n",
      " 9\n"
     ]
    },
    {
     "name": "stdout",
     "output_type": "stream",
     "text": [
      "6\n"
     ]
    }
   ],
   "source": [
    "n = int(input())\n",
    "l = list(map(int, input().split()))\n",
    "target = int(input())\n",
    "def nearest_number(lst, target):\n",
    "    return min(lst[:n], key=lambda x: abs(x-target))\n",
    "print(nearest_number(l, target))\n"
   ]
  },
  {
   "cell_type": "code",
   "execution_count": null,
   "metadata": {},
   "outputs": [],
   "source": [
    "\n",
    "\n",
    "\n",
    "\n",
    "\n",
    "\n",
    "\n",
    "min()"
   ]
  }
 ],
 "metadata": {
  "kernelspec": {
   "display_name": "Python 3",
   "language": "python",
   "name": "python3"
  },
  "language_info": {
   "codemirror_mode": {
    "name": "ipython",
    "version": 3
   },
   "file_extension": ".py",
   "mimetype": "text/x-python",
   "name": "python",
   "nbconvert_exporter": "python",
   "pygments_lexer": "ipython3",
   "version": "3.7.3"
  }
 },
 "nbformat": 4,
 "nbformat_minor": 4
}
