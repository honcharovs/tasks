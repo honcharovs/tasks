{
 "cells": [
  {
   "cell_type": "code",
   "execution_count": null,
   "metadata": {},
   "outputs": [],
   "source": [
    "def merge(left_list, right_list):  \n",
    "    sorted_list = [] # объединенный отсортированный список\n",
    "    left_l_index = 0\n",
    "    right_l_index = 0\n",
    "    left_l_length = len(left_list) # длина левого списка\n",
    "    right_l_length = len(right_list) # длина правого списка\n",
    "    for i in range(left_l_length + right_l_length):\n",
    "        if left_l_index < left_l_length and right_l_index < right_l_length:\n",
    "            if left_list[left_l_index] <= right_list[right_l_index]:\n",
    "                sorted_list.append(left_list[left_l_index])\n",
    "                left_l_index += 1\n",
    "            else:\n",
    "                sorted_list.append(right_list[right_l_index])\n",
    "                right_l_index += 1\n",
    "        elif left_l_index == left_l_length:\n",
    "            sorted_list.append(right_list[right_l_index])\n",
    "            right_l_index += 1\n",
    "        elif right_l_index == right_l_length:\n",
    "            sorted_list.append(left_list[left_l_index])\n",
    "            left_l_index += 1\n",
    "    return sorted_list\n",
    "left_list = list(map(int, input().split()))\n",
    "right_list = list(map(int, input().split()))\n",
    "sorted_list = merge(left_list, right_list)  \n",
    "print(*sorted_list)\n"
   ]
  },
  {
   "cell_type": "code",
   "execution_count": null,
   "metadata": {},
   "outputs": [],
   "source": [
    "n = int(input())\n",
    "l = list(map(int, input().split()))\n",
    "sorted_l = sorted(l)\n",
    "print(*sorted_l)\n"
   ]
  },
  {
   "cell_type": "code",
   "execution_count": null,
   "metadata": {},
   "outputs": [],
   "source": [
    "free_storage_and_users = list(map(int, input().split()))\n",
    "free_storage = free_storage_and_users[0]\n",
    "number_of_users = free_storage_and_users[1]\n",
    "users = []\n",
    "for i in range(1, number_of_users + 1):\n",
    "    user = int(input())\n",
    "    users.append(user)\n",
    "users = sorted(users)\n",
    "users_storage = []\n",
    "for user in users:\n",
    "    if (sum(users_storage) + user) <= free_storage:\n",
    "        users_storage.append(user)\n",
    "    else:\n",
    "        break\n",
    "print(len(users_storage))\n"
   ]
  },
  {
   "cell_type": "raw",
   "metadata": {},
   "source": [
    "Формат ввода\n",
    "\n",
    "В первой строке вводится число n - количество селений (1 <= n <= 100000). Вторая строка содержит n различных целых чисел, i-е из этих чисел задает расстояние от начала дороги до i-го селения. В третьей строке входных данных задается число m - количество бомбоубежищ (1 <= m <= 100000). Четвертая строка содержит m различных целых чисел, i-е из этих чисел задает расстояние от начала дороги до i-го бомбоубежища. Все расстояния положительны и не превышают 10⁹. Селение и убежище могут располагаться в одной точке.\n",
    "\n",
    "Формат вывода\n",
    "\n",
    "Выведите n чисел - для каждого селения выведите номер ближайшего к нему бомбоубежища. Бомбоубежища пронумерованы от 1 до m в том порядке, в котором они заданы во входных данных.\n",
    "\n",
    "Указание\n",
    "\n",
    "Создайте список кортежей из пар (позиция селения, его номер в исходном списке), а также аналогичный список для бомбоубежищ. Отсортируйте эти списки.\n",
    "\n",
    "Перебирайте селения в порядке возрастания.\n",
    "\n",
    "Для селения ближайшими могут быть два соседних бомбоубежища, среди них надо выбрать ближайшее. При переходе к следующему селению не обязательно искать ближайшее бомбоубежище с самого начала. Его можно искать начиная с позиции, найденной для предыдущего города. Аналогично, не нужно искать подходящее бомбоубежище до конца списка бомбоубежищ: достаточно найти самое близкое. Если Вы неэффективно реализуете эту часть, то решение тесты не пройдет.\n",
    "\n",
    "Для хранения ответа используйте список, где индекс будет номером селения, а по этому индексу будет запоминаться номер бомбоубежища.\n",
    "\n",
    "Примеры\n",
    "\n"
   ]
  },
  {
   "cell_type": "code",
   "execution_count": null,
   "metadata": {},
   "outputs": [],
   "source": [
    "n = int(input())  # количество поселений\n",
    "list_n = list(map(int, input().split()))  # расстояние от дороги до поселений\n",
    "m = int(input())  # количество б-у\n",
    "list_m = list(map(int, input().split()))  # расстояние до б-у\n",
    "# создаем список для сортировки поселений\n",
    "sort_list_n = []\n",
    "for i in range(0, n):\n",
    "    sort_list_n.append([list_n[i], i, 0])\n",
    "sort_list_n = sorted(sort_list_n)\n",
    "# создаем список для сортировки бомбоубежищ\n",
    "sort_list_m = []\n",
    "for i in range(0, m):\n",
    "    sort_list_m.append([list_m[i], i+1])\n",
    "sort_list_m = sorted(sort_list_m)\n",
    "# создаем список для расстояний от пос-й до б-у\n",
    "dist_to_m = []\n",
    "start = 0\n",
    "for n_i in range(n):\n",
    "    ind = 0\n",
    "    minimum = 10e10\n",
    "    for m_j in range(start, m):\n",
    "        temp = abs(sort_list_n[n_i][0] - sort_list_m[m_j][0])\n",
    "        if temp < minimum:\n",
    "            ind = m_j\n",
    "            minimum = temp\n",
    "            sort_list_n[n_i][2] = sort_list_m[m_j][1]\n",
    "        else:\n",
    "            break\n",
    "    start = ind\n",
    "sort_list_n.sort(key=lambda x: x[1])\n",
    "for i in range(0, n):\n",
    "    print(sort_list_n[i][2], end=' ')\n"
   ]
  },
  {
   "cell_type": "code",
   "execution_count": null,
   "metadata": {},
   "outputs": [],
   "source": [
    "fin = open('input.txt', 'r', encoding='utf8')\n",
    "fout = open('output.txt', 'w', encoding='utf8')\n",
    "students = []\n",
    "for stud in fin.readlines():\n",
    "    if list(stud.split()):\n",
    "        students.append([list(stud.split())[0] + ' ' + list(stud.split())[1],\n",
    "                         list(stud.split())[2],\n",
    "                         list(stud.split())[3]\n",
    "                        ])\n",
    "#  print(students)\n",
    "students.sort(key=lambda s: s[0].casefold())\n",
    "students_out = []\n",
    "for student in students:\n",
    "    student = [student[0], student[1], student[-1]]\n",
    "    print(*student, file=fout)\n",
    "fout.close()\n"
   ]
  },
  {
   "cell_type": "code",
   "execution_count": null,
   "metadata": {},
   "outputs": [],
   "source": [
    "f = open('input.txt', 'r')\n",
    "a = []\n",
    "for i in f:\n",
    "    a.append(i.split())\n",
    "f.close()\n",
    "\n",
    "a = sorted(a[::2], key=lambda x: x[0].casefold())\n",
    "\n",
    "outFile = open('output2.txt', 'w')\n",
    "for line in a:\n",
    "    line = [line[0], line[1], line[-1]]\n",
    "    print(' '.join(map(str, line)), end='\\n', file=outFile)\n",
    "outFile.close()"
   ]
  },
  {
   "cell_type": "code",
   "execution_count": null,
   "metadata": {},
   "outputs": [],
   "source": [
    "fin = open('input.txt', 'r', encoding='utf8')\n",
    "fout = open('output.txt', 'w', encoding='utf8')\n",
    "studs = []\n",
    "for stud in fin.readlines():\n",
    "    if list(stud.split()):\n",
    "        studs.append([list(stud.split())[0] + ' ' + list(stud.split())[1],\n",
    "                      list(stud.split())[2], list(stud.split())[3], ])\n",
    "#  print(students)\n",
    "studs.sort(key=lambda s: s[0].casefold())\n",
    "studs_out = []\n",
    "for student in studs:\n",
    "    student = [student[0], student[-1]]\n",
    "    print(*student, file=fout)\n",
    "fout.close()\n"
   ]
  },
  {
   "cell_type": "code",
   "execution_count": null,
   "metadata": {},
   "outputs": [],
   "source": [
    "from collections import namedtuple\n",
    " \n",
    "Participant = namedtuple(\"Participant\", \"lastName firstName school score\")\n",
    " \n",
    "def main():\n",
    "    with open(\"input.txt\") as fin, open(\"output3.txt\", \"w\") as fout:\n",
    "        participants = [Participant(*i.split()) for i in fin]\n",
    "        participants.sort(key = lambda x: x.lastName)\n",
    "        print(*map(\" \".join, participants), sep = \"\\n\", file = fout)\n",
    "main()"
   ]
  },
  {
   "cell_type": "code",
   "execution_count": null,
   "metadata": {},
   "outputs": [],
   "source": [
    "def LongestWord(sen):\n",
    "    myString = list(sen.split())\n",
    "    maxLength = 0\n",
    "    for word in myString:\n",
    "        if len(word) > maxLength:\n",
    "            maxLength = len(word)\n",
    "            longWord = word\n",
    "    return longWord\n",
    "\n",
    "sen = \"Hello guys my name is Bot. I'm a bot created by the amazing Junction team, and my job is to be your friend and bedazzle you!\"\n",
    "LongestWord(sen)\n",
    "print(LongestWord(sen))\n"
   ]
  },
  {
   "cell_type": "code",
   "execution_count": null,
   "metadata": {},
   "outputs": [],
   "source": [
    "myWord = 'hackjunction'\n",
    "print('Hello! Secret word has', str(len(myWord)),'symbols.')\n",
    "yourWord = []\n",
    "while ''.join(yourWord) != myWord\n",
    "\n",
    "#print(''.join(yourWord))\n"
   ]
  },
  {
   "cell_type": "code",
   "execution_count": null,
   "metadata": {},
   "outputs": [],
   "source": [
    "open_data = open('input.txt', 'r', encoding='utf8')\n",
    "outFile = open('output4.txt', 'w', encoding='utf8')\n",
    "data = open_data.read().split()\n",
    "n = 0\n",
    "result = {}\n",
    "for i in data:\n",
    "    if n % 4 == 0:\n",
    "        result[data[n]] = (data[n + 1], data[n + 3])\n",
    "    n += 1\n",
    "for j in sorted(result.keys()):\n",
    "    print(' '.join(map(str, (j, ' '.join(map(str, result[j]))))), file=outFile)\n"
   ]
  },
  {
   "cell_type": "code",
   "execution_count": null,
   "metadata": {},
   "outputs": [],
   "source": [
    "inFile = open('input.txt', 'r', encoding='utf-8')\n",
    "matrix = []\n",
    "for line in inFile.readlines():\n",
    "    line2 = line.split()\n",
    "    line2.pop(2)\n",
    "    matrix.append(line2)\n",
    "inFile.close()\n",
    "matrix.sort()\n",
    "for i in matrix:\n",
    "    for j in i:\n",
    "        print(j, end=' ')\n",
    "    print()"
   ]
  },
  {
   "cell_type": "code",
   "execution_count": null,
   "metadata": {},
   "outputs": [],
   "source": [
    "with open('input.txt') as f_in, open('output.txt', 'w') as f_out:\n",
    "    for i in list(map(str.split, sorted(f_in.readlines()))):\n",
    "        f_out.write('{} {} {}\\n'.format(i[0],i[1],i[3]))"
   ]
  },
  {
   "cell_type": "code",
   "execution_count": null,
   "metadata": {},
   "outputs": [],
   "source": [
    "fin = open('input.txt', 'r', encoding='utf8')\n",
    "fout = open('output.txt', 'w', encoding='utf8')\n",
    "studs = []\n",
    "for stud in fin.readlines():\n",
    "    if list(stud.split()):\n",
    "        studs.append([list(stud.split())[0] + ' ' + list(stud.split())[1],\n",
    "                      list(stud.split())[2], list(stud.split())[3], ])\n",
    "# print(students)\n",
    "studs.sort(key=lambda s: s[0].casefold())\n",
    "studs_out = []\n",
    "for student in studs:\n",
    "    student = [student[0], student[-1]]\n",
    "    print(*student)\n",
    "# fout.close()\n"
   ]
  },
  {
   "cell_type": "code",
   "execution_count": 16,
   "metadata": {},
   "outputs": [
    {
     "name": "stdin",
     "output_type": "stream",
     "text": [
      " 10 25 56 85 78 89 96 54 1 10 20 25 85 96 48 59 52 45 5\n"
     ]
    },
    {
     "name": "stdout",
     "output_type": "stream",
     "text": [
      "1 5 10 10 20 25 25 45 48 52 54 56 59 78 85 85 89 96 96 "
     ]
    }
   ],
   "source": [
    "def CountSort(marks):\n",
    "    cntMarks = [0] * 101\n",
    "    for mark in marks:\n",
    "        cntMarks[mark] += 1\n",
    "    for nowMark in range(101):\n",
    "        print((str(nowMark) + ' ') * cntMarks[nowMark], end='')\n",
    "    \n",
    "marks = map(int, input().split())\n",
    "CountSort(marks)\n"
   ]
  },
  {
   "cell_type": "code",
   "execution_count": 21,
   "metadata": {},
   "outputs": [
    {
     "name": "stdin",
     "output_type": "stream",
     "text": [
      " 3\n",
      " Ivanov 10\n",
      " Petrov 15\n",
      " Sidorov 20\n"
     ]
    },
    {
     "name": "stdout",
     "output_type": "stream",
     "text": [
      "Sidorov\n",
      "Petrov\n",
      "Ivanov\n"
     ]
    }
   ],
   "source": [
    "class Student:\n",
    "    score = 0\n",
    "    name = ''\n",
    "\n",
    "\n",
    "def studentKey(student):\n",
    "    return (-student.score, student.name)\n",
    "\n",
    "\n",
    "n = int(input())\n",
    "studentList = []\n",
    "for i in range(n):\n",
    "    tempManData = input().split()\n",
    "    student = Student()\n",
    "    student.score = int(tempManData[1])\n",
    "    student.name = tempManData[0]\n",
    "    studentList.append(student)\n",
    "studentList.sort(key=studentKey)\n",
    "for student in studentList:\n",
    "    print(student.name)\n"
   ]
  },
  {
   "cell_type": "code",
   "execution_count": 22,
   "metadata": {},
   "outputs": [
    {
     "ename": "IndexError",
     "evalue": "pop from empty list",
     "output_type": "error",
     "traceback": [
      "\u001b[0;31m---------------------------------------------------------------------------\u001b[0m",
      "\u001b[0;31mIndexError\u001b[0m                                Traceback (most recent call last)",
      "\u001b[0;32m<ipython-input-22-6b24b9020e72>\u001b[0m in \u001b[0;36m<module>\u001b[0;34m\u001b[0m\n\u001b[1;32m      6\u001b[0m \u001b[0;32mfor\u001b[0m \u001b[0mi\u001b[0m \u001b[0;32min\u001b[0m \u001b[0mrange\u001b[0m\u001b[0;34m(\u001b[0m\u001b[0mlen\u001b[0m\u001b[0;34m(\u001b[0m\u001b[0ma\u001b[0m\u001b[0;34m)\u001b[0m\u001b[0;34m)\u001b[0m\u001b[0;34m:\u001b[0m\u001b[0;34m\u001b[0m\u001b[0;34m\u001b[0m\u001b[0m\n\u001b[1;32m      7\u001b[0m     \u001b[0mc\u001b[0m\u001b[0;34m.\u001b[0m\u001b[0mappend\u001b[0m\u001b[0;34m(\u001b[0m\u001b[0ma\u001b[0m\u001b[0;34m[\u001b[0m\u001b[0mi\u001b[0m\u001b[0;34m]\u001b[0m\u001b[0;34m.\u001b[0m\u001b[0msplit\u001b[0m\u001b[0;34m(\u001b[0m\u001b[0;34m)\u001b[0m\u001b[0;34m)\u001b[0m\u001b[0;34m\u001b[0m\u001b[0;34m\u001b[0m\u001b[0m\n\u001b[0;32m----> 8\u001b[0;31m     \u001b[0mc\u001b[0m\u001b[0;34m[\u001b[0m\u001b[0mi\u001b[0m\u001b[0;34m]\u001b[0m\u001b[0;34m.\u001b[0m\u001b[0mpop\u001b[0m\u001b[0;34m(\u001b[0m\u001b[0;36m2\u001b[0m\u001b[0;34m)\u001b[0m\u001b[0;34m\u001b[0m\u001b[0;34m\u001b[0m\u001b[0m\n\u001b[0m\u001b[1;32m      9\u001b[0m \u001b[0;34m\u001b[0m\u001b[0m\n\u001b[1;32m     10\u001b[0m \u001b[0mc\u001b[0m\u001b[0;34m.\u001b[0m\u001b[0msort\u001b[0m\u001b[0;34m(\u001b[0m\u001b[0;34m)\u001b[0m\u001b[0;34m\u001b[0m\u001b[0;34m\u001b[0m\u001b[0m\n",
      "\u001b[0;31mIndexError\u001b[0m: pop from empty list"
     ]
    }
   ],
   "source": [
    "join = open('input.txt', 'r', encoding='utf-8')\n",
    "\n",
    "a = join.readlines()\n",
    "\n",
    "c = []\n",
    "for i in range(len(a)):\n",
    "    c.append(a[i].split())\n",
    "    c[i].pop(2)\n",
    "\n",
    "c.sort()\n",
    "\n",
    "out = open('output6.txt', 'w', encoding='utf-8')\n",
    "for i in range(len(c)):\n",
    "    print(' '.join(map(str, c[i])), sep='', file=out)\n",
    "\n",
    "out.close()"
   ]
  },
  {
   "cell_type": "code",
   "execution_count": 17,
   "metadata": {},
   "outputs": [
    {
     "name": "stdout",
     "output_type": "stream",
     "text": [
      "3 14 "
     ]
    }
   ],
   "source": [
    "class SchoolOlimp:\n",
    "    surname = ''\n",
    "    name = ''\n",
    "    school = 0\n",
    "    score = 0\n",
    "\n",
    "class School:\n",
    "    number = 0\n",
    "\n",
    "fin = open('input2.txt', 'r', encoding='utf-8')\n",
    "listSchool = []\n",
    "for i in fin.readlines():\n",
    "    if list(i.split()):\n",
    "        school = School()\n",
    "        school.number = int(i.split()[-2])\n",
    "        listSchool.append(school.number)\n",
    "\n",
    "def CountSort(schools):\n",
    "    cntSchools = [0] * 101\n",
    "    for school in schools:\n",
    "        cntSchools[school] += 1\n",
    "    return cntSchools\n",
    "        \n",
    "# print(listSchool)\n",
    "CountSort(listSchool)\n",
    "# print(CountSort(listSchool))\n",
    "# print(max(CountSort(listSchool)))\n",
    "for i in range(101):\n",
    "    if CountSort(listSchool)[i] == max(CountSort(listSchool)):\n",
    "        print(i, end=' ')\n"
   ]
  },
  {
   "cell_type": "raw",
   "metadata": {},
   "source": [
    "Иванов Сергей 14 56\n",
    "Сергеев Петр 23 74\n",
    "Петров Василий 3 99\n",
    "Васильев Андрей 3 56\n",
    "Андреев Роман 14 75\n",
    "Романов Иван 27 68"
   ]
  },
  {
   "cell_type": "code",
   "execution_count": 31,
   "metadata": {},
   "outputs": [
    {
     "name": "stdout",
     "output_type": "stream",
     "text": [
      "[0, 0, 0, 0, 0]\n"
     ]
    }
   ],
   "source": [
    "cntSchools = [0] * 5\n",
    "print(cntSchools)"
   ]
  },
  {
   "cell_type": "code",
   "execution_count": null,
   "metadata": {},
   "outputs": [],
   "source": []
  }
 ],
 "metadata": {
  "kernelspec": {
   "display_name": "Python 3",
   "language": "python",
   "name": "python3"
  },
  "language_info": {
   "codemirror_mode": {
    "name": "ipython",
    "version": 3
   },
   "file_extension": ".py",
   "mimetype": "text/x-python",
   "name": "python",
   "nbconvert_exporter": "python",
   "pygments_lexer": "ipython3",
   "version": "3.7.3"
  }
 },
 "nbformat": 4,
 "nbformat_minor": 4
}
