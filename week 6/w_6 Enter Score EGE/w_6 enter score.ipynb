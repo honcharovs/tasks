{
 "cells": [
  {
   "cell_type": "code",
   "execution_count": 29,
   "metadata": {},
   "outputs": [
    {
     "name": "stdin",
     "output_type": "stream",
     "text": [
      " 5\n"
     ]
    },
    {
     "name": "stdout",
     "output_type": "stream",
     "text": [
      "<__main__.Student object at 0x7f1eae76a898> <__main__.Student object at 0x7f1eae76a710> <__main__.Student object at 0x7f1eae76a668> <__main__.Student object at 0x7f1eae76a748> <__main__.Student object at 0x7f1eae76a5c0> <__main__.Student object at 0x7f1eae76a860> <__main__.Student object at 0x7f1eae76a5f8>\n",
      "120\n",
      "150\n",
      "150\n",
      "180\n",
      "210\n",
      "210\n",
      "210\n"
     ]
    }
   ],
   "source": [
    "class Student:\n",
    "    name = ''\n",
    "    surname = ''\n",
    "    score1 = 0\n",
    "    score2 = 0\n",
    "    score3 = 0\n",
    "    sumScore = 0\n",
    "    \n",
    "\n",
    "\n",
    "def studentKey(student):\n",
    "    return (student.sumScore)\n",
    "\n",
    "\n",
    "fin = open('input.txt', 'r', encoding='utf8')\n",
    "k = int(input())\n",
    "studList = []\n",
    "for stud in fin.readlines():\n",
    "    if list(stud.split()):\n",
    "        student = Student()\n",
    "        student.name = stud.split()[1]\n",
    "        student.surname = stud.split()[0]\n",
    "    if int(stud.split()[-3]) >= 40:\n",
    "           student.score1 = int(stud.split()[-3])\n",
    "    else:\n",
    "        continue\n",
    "    if int(stud.split()[-2]) >= 40:\n",
    "           student.score2 = int(stud.split()[-2])\n",
    "    else:\n",
    "        continue\n",
    "    if int(stud.split()[-1]) >= 40:\n",
    "           student.score3 = int(stud.split()[-1])\n",
    "    else:\n",
    "        continue\n",
    "    student.sumScore = student.score1 + student.score1 + student.score1\n",
    "    studList.append(student)\n",
    "print(*studList)\n",
    "studList.sort(key=studentKey)\n",
    "for student in studList:\n",
    "    print(student.sumScore)\n",
    "#studentList = []\n",
    "#for i in range(k):\n",
    "#    tempManData = input().split()\n",
    "#    student = Student()\n",
    "#    student.score = int(tempManData[1])\n",
    "#    student.name = tempManData[0]\n",
    "#    studentList.append(student)\n",
    "#studentList.sort(key=studentKey)\n",
    "#for student in studentList:\n",
    "#    print(student.name)\n"
   ]
  },
  {
   "cell_type": "code",
   "execution_count": 32,
   "metadata": {},
   "outputs": [
    {
     "name": "stdin",
     "output_type": "stream",
     "text": [
      " 1\n"
     ]
    },
    {
     "name": "stdout",
     "output_type": "stream",
     "text": [
      "0\n"
     ]
    }
   ],
   "source": [
    "inFile = open('input.txt', 'r', encoding='utf8')\n",
    "outFile = open('output.txt', 'w', encoding='utf8')\n",
    "k = int(input())\n",
    "rez = []\n",
    "l = inFile.readlines()\n",
    "for i in l:\n",
    "    if len(i.split()) == 6:\n",
    "        n1, n2, n3, s1, s2, s3 = i.split()\n",
    "    if len(i.split()) == 5:\n",
    "        n1, n2, s1, s2, s3 = i.split()\n",
    " \n",
    "    if int(s1) >= 40 and int(s2) >= 40 and int(s3) >= 40:\n",
    "        sum = int(s1) + int(s2) + int(s3)\n",
    "    else:\n",
    "        sum = 0\n",
    "    rez.append(sum)\n",
    "rez.sort(reverse=True)\n",
    "if rez[k] == 0:\n",
    "    print(0)\n",
    "elif rez[0] == rez[k]:\n",
    "    print(1)\n",
    "elif rez[k] == rez[k - 1]:\n",
    "    print(rez[k - 2])\n",
    "else:\n",
    "    print(rez[k - 1])\n",
    "inFile.close()\n",
    "outFile.close()\n"
   ]
  },
  {
   "cell_type": "code",
   "execution_count": null,
   "metadata": {},
   "outputs": [],
   "source": []
  }
 ],
 "metadata": {
  "kernelspec": {
   "display_name": "Python 3",
   "language": "python",
   "name": "python3"
  },
  "language_info": {
   "codemirror_mode": {
    "name": "ipython",
    "version": 3
   },
   "file_extension": ".py",
   "mimetype": "text/x-python",
   "name": "python",
   "nbconvert_exporter": "python",
   "pygments_lexer": "ipython3",
   "version": "3.7.3"
  }
 },
 "nbformat": 4,
 "nbformat_minor": 4
}
