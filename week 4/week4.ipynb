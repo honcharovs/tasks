{
 "cells": [
  {
   "cell_type": "code",
   "execution_count": 1,
   "metadata": {},
   "outputs": [
    {
     "name": "stdin",
     "output_type": "stream",
     "text": [
      " 5\n",
      " 7\n",
      " 2\n",
      " 9\n"
     ]
    },
    {
     "name": "stdout",
     "output_type": "stream",
     "text": [
      "2\n"
     ]
    }
   ],
   "source": [
    "def min4(a, b, c, d):\n",
    "    res = min(min(a, b),min(c,d))\n",
    "    return res\n",
    "a = int(input())\n",
    "b = int(input())\n",
    "c = int(input())\n",
    "d = int(input())\n",
    "print(min4(a, b, c, d))\n"
   ]
  },
  {
   "cell_type": "code",
   "execution_count": 9,
   "metadata": {},
   "outputs": [
    {
     "name": "stdin",
     "output_type": "stream",
     "text": [
      " -2\n",
      " 4\n"
     ]
    },
    {
     "name": "stdout",
     "output_type": "stream",
     "text": [
      "NO\n"
     ]
    }
   ],
   "source": [
    "def IsPointInSquare(x, y):\n",
    "    print(\"YES\" * ((-1 <= x <= 1) and (-1 <= y <= 1)) +\n",
    "          (\"NO\" * ((x < -1) or (x > 1) or (y < -1) or (y > 1))))\n",
    "x = float(input())\n",
    "y = float(input())\n",
    "IsPointInSquare(x, y)\n"
   ]
  },
  {
   "cell_type": "code",
   "execution_count": 15,
   "metadata": {},
   "outputs": [
    {
     "name": "stdin",
     "output_type": "stream",
     "text": [
      " 0\n",
      " 0\n",
      " 1\n",
      " 0\n",
      " 1\n"
     ]
    },
    {
     "name": "stdout",
     "output_type": "stream",
     "text": [
      "YES\n"
     ]
    }
   ],
   "source": [
    "def IsPointInCircle(x, y, xc, yc, r):\n",
    "    return(\n",
    "        ((x - xc) ** 2 + (y - yc) ** 2 <= r ** 2) >\n",
    "        ((x - xc) ** 2 + (y - yc) ** 2 > r ** 2)\n",
    "    )\n",
    "x = float(input())\n",
    "y = float(input())\n",
    "xc = float(input())\n",
    "yc = float(input())\n",
    "r = float(input())\n",
    "if IsPointInCircle(x, y, xc, yc, r) == True:\n",
    "    print('YES')\n",
    "else:\n",
    "    print('NO')\n",
    "    "
   ]
  },
  {
   "cell_type": "code",
   "execution_count": 26,
   "metadata": {},
   "outputs": [
    {
     "name": "stdin",
     "output_type": "stream",
     "text": [
      " 75\n"
     ]
    },
    {
     "name": "stdout",
     "output_type": "stream",
     "text": [
      "3\n"
     ]
    }
   ],
   "source": [
    "def MinDivision(n):\n",
    "    from math import sqrt\n",
    "    i = 2\n",
    "    while i <= n:\n",
    "        if i <= sqrt(n):\n",
    "            if n % i == 0:\n",
    "                print(i)\n",
    "                break\n",
    "            else:\n",
    "                i += 1\n",
    "        else:\n",
    "            print(n)\n",
    "            break\n",
    "n = int(input())\n",
    "MinDivision(n)\n"
   ]
  },
  {
   "cell_type": "code",
   "execution_count": 11,
   "metadata": {},
   "outputs": [
    {
     "name": "stdin",
     "output_type": "stream",
     "text": [
      " 6\n"
     ]
    },
    {
     "name": "stdout",
     "output_type": "stream",
     "text": [
      "NO\n"
     ]
    }
   ],
   "source": [
    "def IsPrime(n):\n",
    "    a = 2\n",
    "    while n % a != 0:\n",
    "        a += 1\n",
    "    return a == n\n",
    "n = int(input())\n",
    "if IsPrime(n):\n",
    "    print('YES')\n",
    "else:\n",
    "    print('NO')\n"
   ]
  },
  {
   "cell_type": "code",
   "execution_count": 70,
   "metadata": {},
   "outputs": [
    {
     "name": "stdin",
     "output_type": "stream",
     "text": [
      " 20\n"
     ]
    },
    {
     "name": "stdout",
     "output_type": "stream",
     "text": [
      "NO\n"
     ]
    }
   ],
   "source": [
    "def IsPrime(n):\n",
    "    from math import sqrt\n",
    "    i = 2\n",
    "    if n == 2 or n == 3:\n",
    "        return True\n",
    "    elif n % 2 == 0:\n",
    "        return False\n",
    "    else:\n",
    "        while True:\n",
    "            while i <= sqrt(n) and n % i != 0:\n",
    "                i += 1\n",
    "                if i * i == n:\n",
    "                    return False\n",
    "                else:\n",
    "                    return True\n",
    "            break\n",
    "n = int(input())\n",
    "if IsPrime(n):\n",
    "    print('YES')\n",
    "else:\n",
    "    print('NO')\n"
   ]
  },
  {
   "cell_type": "markdown",
   "metadata": {},
   "source": [
    "Дано натуральное число n>1. Проверьте, является ли оно простым. Программа должна вывести слово YES, если число простое и NO, если число составное. Решение оформите в виде функции IsPrime(n), которая возвращает True для простых чисел и False для составных чисел. Программа должна иметь сложность O(корень из n): количество действий в программе должно быть пропорционально квадратному корню из n (иначе говоря, при увеличении входного числа в k раз, время выполнения программы должно увеличиваться примерно в корень из k раз)."
   ]
  },
  {
   "cell_type": "code",
   "execution_count": null,
   "metadata": {},
   "outputs": [],
   "source": [
    "def IsPrime(n):\n",
    "    from math import sqrt\n",
    "    i = 2\n",
    "    while i <= n:\n",
    "        if i <= sqrt(n):\n",
    "            if n % i == 0:\n",
    "                return i == n or i == 1\n",
    "                break\n",
    "            else:\n",
    "                i += 1\n",
    "        else:\n",
    "            return True\n",
    "            break\n",
    "n = int(input())\n",
    "if IsPrime(n):\n",
    "    print(\"YES\")\n",
    "else:\n",
    "    print('NO')\n"
   ]
  },
  {
   "cell_type": "code",
   "execution_count": 38,
   "metadata": {},
   "outputs": [
    {
     "name": "stdin",
     "output_type": "stream",
     "text": [
      " 1.1\n",
      " 5\n"
     ]
    },
    {
     "name": "stdout",
     "output_type": "stream",
     "text": [
      "1.6105100000000008\n"
     ]
    }
   ],
   "source": [
    "def power(a, n):\n",
    "    if n==0:\n",
    "        return 1\n",
    "    return a*power(a, n-1)\n",
    "a = float(input())\n",
    "n = int(input())\n",
    "print(power(a, n))\n"
   ]
  },
  {
   "cell_type": "code",
   "execution_count": null,
   "metadata": {},
   "outputs": [],
   "source": [
    "aⁿ=a⋅aⁿ⁻¹"
   ]
  },
  {
   "cell_type": "code",
   "execution_count": 26,
   "metadata": {},
   "outputs": [
    {
     "data": {
      "text/plain": [
       "1.4142135623730951"
      ]
     },
     "execution_count": 26,
     "metadata": {},
     "output_type": "execute_result"
    }
   ],
   "source": [
    "from math import sqrt\n",
    "sqrt(2)"
   ]
  },
  {
   "cell_type": "code",
   "execution_count": 78,
   "metadata": {},
   "outputs": [
    {
     "name": "stdin",
     "output_type": "stream",
     "text": [
      " 2\n",
      " 5\n"
     ]
    },
    {
     "name": "stdout",
     "output_type": "stream",
     "text": [
      "7\n"
     ]
    }
   ],
   "source": [
    "def summing(a, b):\n",
    "    if b != 0:\n",
    "        a += 1\n",
    "        b -= 1\n",
    "        if b > 0:\n",
    "            return summing(a, b)\n",
    "        else:\n",
    "            return a\n",
    "    elif b == 0:\n",
    "        return a\n",
    "a = int(input())\n",
    "b = int(input())\n",
    "print(summing(a, b))\n"
   ]
  },
  {
   "cell_type": "code",
   "execution_count": 98,
   "metadata": {},
   "outputs": [
    {
     "name": "stdin",
     "output_type": "stream",
     "text": [
      " 2\n",
      " 100\n"
     ]
    },
    {
     "name": "stdout",
     "output_type": "stream",
     "text": [
      "1267650600228229401496703205376\n"
     ]
    }
   ],
   "source": [
    "def fastExp(a, n):\n",
    "    def even(n): #проверка четности\n",
    "        if n % 2 == 0:\n",
    "            return 1\n",
    "        return 0\n",
    "    if n == 0:\n",
    "        return 1\n",
    "    if n == 1:\n",
    "        return a\n",
    "    if even(n):\n",
    "        return (fastExp(a, n/2) ** 2)\n",
    "    return (a * fastExp(a, n-1))\n",
    "a = int(input())\n",
    "n = int(input())\n",
    "print(fastExp(a, n))\n"
   ]
  },
  {
   "cell_type": "code",
   "execution_count": 106,
   "metadata": {},
   "outputs": [
    {
     "name": "stdin",
     "output_type": "stream",
     "text": [
      " 12\n",
      " 16\n"
     ]
    },
    {
     "name": "stdout",
     "output_type": "stream",
     "text": [
      "3 4\n"
     ]
    }
   ],
   "source": [
    "def ReduceFraction(a, b):\n",
    "    a2 = a\n",
    "    b2 = b\n",
    "    while a2 != 0 and b2 != 0:\n",
    "        if a2 > b2:\n",
    "            a2 %= b2\n",
    "        else:\n",
    "            b2 %= a2\n",
    "    nod = a2 + b2\n",
    "    p = a/nod\n",
    "    q = b/nod\n",
    "    return int(p), int(q)\n",
    "a = int(input())\n",
    "b = int(input())\n",
    "print(*ReduceFraction(a, b))\n"
   ]
  },
  {
   "cell_type": "code",
   "execution_count": 108,
   "metadata": {},
   "outputs": [
    {
     "name": "stdin",
     "output_type": "stream",
     "text": [
      " 1\n",
      " 10\n",
      " 10\n",
      " 20\n",
      " 0\n"
     ]
    },
    {
     "name": "stdout",
     "output_type": "stream",
     "text": [
      "41\n"
     ]
    }
   ],
   "source": [
    "def sumRow():\n",
    "    a = int(input())\n",
    "    if a != 0:\n",
    "        a += sumRow()\n",
    "    return a\n",
    "print(sumRow())\n"
   ]
  },
  {
   "cell_type": "code",
   "execution_count": 117,
   "metadata": {},
   "outputs": [
    {
     "name": "stdin",
     "output_type": "stream",
     "text": [
      " 1\n",
      " 2\n",
      " 3\n",
      " 0\n"
     ]
    },
    {
     "name": "stdout",
     "output_type": "stream",
     "text": [
      "0\n",
      "3\n",
      "2\n",
      "1\n"
     ]
    }
   ],
   "source": [
    "def RowVersus():\n",
    "    a = int(input())\n",
    "    if a != 0:\n",
    "        RowVersus()\n",
    "    print(a)\n",
    "RowVersus()\n"
   ]
  },
  {
   "cell_type": "code",
   "execution_count": null,
   "metadata": {},
   "outputs": [],
   "source": []
  }
 ],
 "metadata": {
  "kernelspec": {
   "display_name": "Python 3",
   "language": "python",
   "name": "python3"
  },
  "language_info": {
   "codemirror_mode": {
    "name": "ipython",
    "version": 3
   },
   "file_extension": ".py",
   "mimetype": "text/x-python",
   "name": "python",
   "nbconvert_exporter": "python",
   "pygments_lexer": "ipython3",
   "version": "3.7.3"
  }
 },
 "nbformat": 4,
 "nbformat_minor": 4
}
